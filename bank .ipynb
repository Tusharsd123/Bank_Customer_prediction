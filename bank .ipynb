{
 "cells": [
  {
   "cell_type": "code",
   "execution_count": 2,
   "metadata": {},
   "outputs": [],
   "source": [
    "import numpy as np\n",
    "import matplotlib.pyplot as plt\n",
    "import pandas as pd"
   ]
  },
  {
   "cell_type": "code",
   "execution_count": 3,
   "metadata": {},
   "outputs": [],
   "source": [
    "dataset = pd.read_csv('Churn_Modelling.csv')"
   ]
  },
  {
   "cell_type": "code",
   "execution_count": 4,
   "metadata": {},
   "outputs": [
    {
     "data": {
      "text/html": [
       "<div>\n",
       "<style scoped>\n",
       "    .dataframe tbody tr th:only-of-type {\n",
       "        vertical-align: middle;\n",
       "    }\n",
       "\n",
       "    .dataframe tbody tr th {\n",
       "        vertical-align: top;\n",
       "    }\n",
       "\n",
       "    .dataframe thead th {\n",
       "        text-align: right;\n",
       "    }\n",
       "</style>\n",
       "<table border=\"1\" class=\"dataframe\">\n",
       "  <thead>\n",
       "    <tr style=\"text-align: right;\">\n",
       "      <th></th>\n",
       "      <th>RowNumber</th>\n",
       "      <th>CustomerId</th>\n",
       "      <th>Surname</th>\n",
       "      <th>CreditScore</th>\n",
       "      <th>Geography</th>\n",
       "      <th>Gender</th>\n",
       "      <th>Age</th>\n",
       "      <th>Tenure</th>\n",
       "      <th>Balance</th>\n",
       "      <th>NumOfProducts</th>\n",
       "      <th>HasCrCard</th>\n",
       "      <th>IsActiveMember</th>\n",
       "      <th>EstimatedSalary</th>\n",
       "      <th>Exited</th>\n",
       "    </tr>\n",
       "  </thead>\n",
       "  <tbody>\n",
       "    <tr>\n",
       "      <th>0</th>\n",
       "      <td>1</td>\n",
       "      <td>15634602</td>\n",
       "      <td>Hargrave</td>\n",
       "      <td>619</td>\n",
       "      <td>France</td>\n",
       "      <td>Female</td>\n",
       "      <td>42</td>\n",
       "      <td>2</td>\n",
       "      <td>0.00</td>\n",
       "      <td>1</td>\n",
       "      <td>1</td>\n",
       "      <td>1</td>\n",
       "      <td>101348.88</td>\n",
       "      <td>1</td>\n",
       "    </tr>\n",
       "    <tr>\n",
       "      <th>1</th>\n",
       "      <td>2</td>\n",
       "      <td>15647311</td>\n",
       "      <td>Hill</td>\n",
       "      <td>608</td>\n",
       "      <td>Spain</td>\n",
       "      <td>Female</td>\n",
       "      <td>41</td>\n",
       "      <td>1</td>\n",
       "      <td>83807.86</td>\n",
       "      <td>1</td>\n",
       "      <td>0</td>\n",
       "      <td>1</td>\n",
       "      <td>112542.58</td>\n",
       "      <td>0</td>\n",
       "    </tr>\n",
       "    <tr>\n",
       "      <th>2</th>\n",
       "      <td>3</td>\n",
       "      <td>15619304</td>\n",
       "      <td>Onio</td>\n",
       "      <td>502</td>\n",
       "      <td>France</td>\n",
       "      <td>Female</td>\n",
       "      <td>42</td>\n",
       "      <td>8</td>\n",
       "      <td>159660.80</td>\n",
       "      <td>3</td>\n",
       "      <td>1</td>\n",
       "      <td>0</td>\n",
       "      <td>113931.57</td>\n",
       "      <td>1</td>\n",
       "    </tr>\n",
       "    <tr>\n",
       "      <th>3</th>\n",
       "      <td>4</td>\n",
       "      <td>15701354</td>\n",
       "      <td>Boni</td>\n",
       "      <td>699</td>\n",
       "      <td>France</td>\n",
       "      <td>Female</td>\n",
       "      <td>39</td>\n",
       "      <td>1</td>\n",
       "      <td>0.00</td>\n",
       "      <td>2</td>\n",
       "      <td>0</td>\n",
       "      <td>0</td>\n",
       "      <td>93826.63</td>\n",
       "      <td>0</td>\n",
       "    </tr>\n",
       "    <tr>\n",
       "      <th>4</th>\n",
       "      <td>5</td>\n",
       "      <td>15737888</td>\n",
       "      <td>Mitchell</td>\n",
       "      <td>850</td>\n",
       "      <td>Spain</td>\n",
       "      <td>Female</td>\n",
       "      <td>43</td>\n",
       "      <td>2</td>\n",
       "      <td>125510.82</td>\n",
       "      <td>1</td>\n",
       "      <td>1</td>\n",
       "      <td>1</td>\n",
       "      <td>79084.10</td>\n",
       "      <td>0</td>\n",
       "    </tr>\n",
       "  </tbody>\n",
       "</table>\n",
       "</div>"
      ],
      "text/plain": [
       "   RowNumber  CustomerId   Surname  CreditScore Geography  Gender  Age  \\\n",
       "0          1    15634602  Hargrave          619    France  Female   42   \n",
       "1          2    15647311      Hill          608     Spain  Female   41   \n",
       "2          3    15619304      Onio          502    France  Female   42   \n",
       "3          4    15701354      Boni          699    France  Female   39   \n",
       "4          5    15737888  Mitchell          850     Spain  Female   43   \n",
       "\n",
       "   Tenure    Balance  NumOfProducts  HasCrCard  IsActiveMember  \\\n",
       "0       2       0.00              1          1               1   \n",
       "1       1   83807.86              1          0               1   \n",
       "2       8  159660.80              3          1               0   \n",
       "3       1       0.00              2          0               0   \n",
       "4       2  125510.82              1          1               1   \n",
       "\n",
       "   EstimatedSalary  Exited  \n",
       "0        101348.88       1  \n",
       "1        112542.58       0  \n",
       "2        113931.57       1  \n",
       "3         93826.63       0  \n",
       "4         79084.10       0  "
      ]
     },
     "execution_count": 4,
     "metadata": {},
     "output_type": "execute_result"
    }
   ],
   "source": [
    "dataset.head()"
   ]
  },
  {
   "cell_type": "code",
   "execution_count": 5,
   "metadata": {},
   "outputs": [],
   "source": [
    "X = dataset.iloc[:,3:13].values\n",
    "y = dataset.iloc[:,13].values"
   ]
  },
  {
   "cell_type": "code",
   "execution_count": 6,
   "metadata": {},
   "outputs": [],
   "source": [
    "from sklearn.preprocessing import LabelEncoder,OneHotEncoder"
   ]
  },
  {
   "cell_type": "code",
   "execution_count": 7,
   "metadata": {},
   "outputs": [],
   "source": [
    "label_1 = LabelEncoder()\n",
    "X[:,1] = label_1.fit_transform(X[:,1])\n",
    "label_2 = LabelEncoder()\n",
    "X[:,2] = label_2.fit_transform(X[:,2])\n"
   ]
  },
  {
   "cell_type": "code",
   "execution_count": 8,
   "metadata": {},
   "outputs": [
    {
     "name": "stderr",
     "output_type": "stream",
     "text": [
      "C:\\Users\\tusha\\Anaconda3\\anaconda64\\lib\\site-packages\\sklearn\\preprocessing\\_encoders.py:371: FutureWarning: The handling of integer data will change in version 0.22. Currently, the categories are determined based on the range [0, max(values)], while in the future they will be determined based on the unique values.\n",
      "If you want the future behaviour and silence this warning, you can specify \"categories='auto'\".\n",
      "In case you used a LabelEncoder before this OneHotEncoder to convert the categories to integers, then you can now use the OneHotEncoder directly.\n",
      "  warnings.warn(msg, FutureWarning)\n",
      "C:\\Users\\tusha\\Anaconda3\\anaconda64\\lib\\site-packages\\sklearn\\preprocessing\\_encoders.py:392: DeprecationWarning: The 'categorical_features' keyword is deprecated in version 0.20 and will be removed in 0.22. You can use the ColumnTransformer instead.\n",
      "  \"use the ColumnTransformer instead.\", DeprecationWarning)\n"
     ]
    }
   ],
   "source": [
    "onehotencoder = OneHotEncoder(categorical_features=[1])\n",
    "X = onehotencoder.fit_transform(X).toarray()"
   ]
  },
  {
   "cell_type": "code",
   "execution_count": null,
   "metadata": {},
   "outputs": [],
   "source": []
  },
  {
   "cell_type": "code",
   "execution_count": null,
   "metadata": {},
   "outputs": [],
   "source": []
  },
  {
   "cell_type": "code",
   "execution_count": 11,
   "metadata": {},
   "outputs": [],
   "source": [
    "X = X[:,1:]"
   ]
  },
  {
   "cell_type": "code",
   "execution_count": 12,
   "metadata": {},
   "outputs": [],
   "source": [
    "X = pd.DataFrame(X)"
   ]
  },
  {
   "cell_type": "code",
   "execution_count": 13,
   "metadata": {},
   "outputs": [
    {
     "data": {
      "text/html": [
       "<div>\n",
       "<style scoped>\n",
       "    .dataframe tbody tr th:only-of-type {\n",
       "        vertical-align: middle;\n",
       "    }\n",
       "\n",
       "    .dataframe tbody tr th {\n",
       "        vertical-align: top;\n",
       "    }\n",
       "\n",
       "    .dataframe thead th {\n",
       "        text-align: right;\n",
       "    }\n",
       "</style>\n",
       "<table border=\"1\" class=\"dataframe\">\n",
       "  <thead>\n",
       "    <tr style=\"text-align: right;\">\n",
       "      <th></th>\n",
       "      <th>0</th>\n",
       "      <th>1</th>\n",
       "      <th>2</th>\n",
       "      <th>3</th>\n",
       "      <th>4</th>\n",
       "      <th>5</th>\n",
       "      <th>6</th>\n",
       "      <th>7</th>\n",
       "      <th>8</th>\n",
       "      <th>9</th>\n",
       "      <th>10</th>\n",
       "    </tr>\n",
       "  </thead>\n",
       "  <tbody>\n",
       "    <tr>\n",
       "      <th>0</th>\n",
       "      <td>0.0</td>\n",
       "      <td>0.0</td>\n",
       "      <td>619.0</td>\n",
       "      <td>0.0</td>\n",
       "      <td>42.0</td>\n",
       "      <td>2.0</td>\n",
       "      <td>0.00</td>\n",
       "      <td>1.0</td>\n",
       "      <td>1.0</td>\n",
       "      <td>1.0</td>\n",
       "      <td>101348.88</td>\n",
       "    </tr>\n",
       "    <tr>\n",
       "      <th>1</th>\n",
       "      <td>0.0</td>\n",
       "      <td>1.0</td>\n",
       "      <td>608.0</td>\n",
       "      <td>0.0</td>\n",
       "      <td>41.0</td>\n",
       "      <td>1.0</td>\n",
       "      <td>83807.86</td>\n",
       "      <td>1.0</td>\n",
       "      <td>0.0</td>\n",
       "      <td>1.0</td>\n",
       "      <td>112542.58</td>\n",
       "    </tr>\n",
       "    <tr>\n",
       "      <th>2</th>\n",
       "      <td>0.0</td>\n",
       "      <td>0.0</td>\n",
       "      <td>502.0</td>\n",
       "      <td>0.0</td>\n",
       "      <td>42.0</td>\n",
       "      <td>8.0</td>\n",
       "      <td>159660.80</td>\n",
       "      <td>3.0</td>\n",
       "      <td>1.0</td>\n",
       "      <td>0.0</td>\n",
       "      <td>113931.57</td>\n",
       "    </tr>\n",
       "    <tr>\n",
       "      <th>3</th>\n",
       "      <td>0.0</td>\n",
       "      <td>0.0</td>\n",
       "      <td>699.0</td>\n",
       "      <td>0.0</td>\n",
       "      <td>39.0</td>\n",
       "      <td>1.0</td>\n",
       "      <td>0.00</td>\n",
       "      <td>2.0</td>\n",
       "      <td>0.0</td>\n",
       "      <td>0.0</td>\n",
       "      <td>93826.63</td>\n",
       "    </tr>\n",
       "    <tr>\n",
       "      <th>4</th>\n",
       "      <td>0.0</td>\n",
       "      <td>1.0</td>\n",
       "      <td>850.0</td>\n",
       "      <td>0.0</td>\n",
       "      <td>43.0</td>\n",
       "      <td>2.0</td>\n",
       "      <td>125510.82</td>\n",
       "      <td>1.0</td>\n",
       "      <td>1.0</td>\n",
       "      <td>1.0</td>\n",
       "      <td>79084.10</td>\n",
       "    </tr>\n",
       "  </tbody>\n",
       "</table>\n",
       "</div>"
      ],
      "text/plain": [
       "    0    1      2    3     4    5          6    7    8    9          10\n",
       "0  0.0  0.0  619.0  0.0  42.0  2.0       0.00  1.0  1.0  1.0  101348.88\n",
       "1  0.0  1.0  608.0  0.0  41.0  1.0   83807.86  1.0  0.0  1.0  112542.58\n",
       "2  0.0  0.0  502.0  0.0  42.0  8.0  159660.80  3.0  1.0  0.0  113931.57\n",
       "3  0.0  0.0  699.0  0.0  39.0  1.0       0.00  2.0  0.0  0.0   93826.63\n",
       "4  0.0  1.0  850.0  0.0  43.0  2.0  125510.82  1.0  1.0  1.0   79084.10"
      ]
     },
     "execution_count": 13,
     "metadata": {},
     "output_type": "execute_result"
    }
   ],
   "source": [
    "X.head()"
   ]
  },
  {
   "cell_type": "code",
   "execution_count": 14,
   "metadata": {},
   "outputs": [],
   "source": [
    "from sklearn.model_selection import train_test_split\n",
    "X_train,X_test,y_train,y_test = train_test_split(X,y,test_size=0.2)"
   ]
  },
  {
   "cell_type": "code",
   "execution_count": 15,
   "metadata": {},
   "outputs": [],
   "source": [
    "from sklearn.preprocessing import StandardScaler"
   ]
  },
  {
   "cell_type": "code",
   "execution_count": 16,
   "metadata": {},
   "outputs": [],
   "source": [
    "s = StandardScaler()\n",
    "X_train = s.fit_transform(X_train)\n",
    "X_test = s.fit_transform(X_test)"
   ]
  },
  {
   "cell_type": "code",
   "execution_count": 17,
   "metadata": {},
   "outputs": [
    {
     "name": "stderr",
     "output_type": "stream",
     "text": [
      "Using TensorFlow backend.\n"
     ]
    }
   ],
   "source": [
    "import keras\n",
    "from keras.models import Sequential\n",
    "from keras.layers import Dense"
   ]
  },
  {
   "cell_type": "code",
   "execution_count": 18,
   "metadata": {},
   "outputs": [],
   "source": [
    "classifier = Sequential()"
   ]
  },
  {
   "cell_type": "code",
   "execution_count": 21,
   "metadata": {},
   "outputs": [
    {
     "name": "stderr",
     "output_type": "stream",
     "text": [
      "C:\\Users\\tusha\\Anaconda3\\anaconda64\\lib\\site-packages\\ipykernel_launcher.py:1: UserWarning: Update your `Dense` call to the Keras 2 API: `Dense(activation=\"relu\", input_dim=11, units=6, kernel_initializer=\"uniform\")`\n",
      "  \"\"\"Entry point for launching an IPython kernel.\n",
      "C:\\Users\\tusha\\Anaconda3\\anaconda64\\lib\\site-packages\\ipykernel_launcher.py:2: UserWarning: Update your `Dense` call to the Keras 2 API: `Dense(activation=\"relu\", units=6, kernel_initializer=\"uniform\")`\n",
      "  \n",
      "C:\\Users\\tusha\\Anaconda3\\anaconda64\\lib\\site-packages\\ipykernel_launcher.py:3: UserWarning: Update your `Dense` call to the Keras 2 API: `Dense(activation=\"sigmoid\", units=1, kernel_initializer=\"uniform\")`\n",
      "  This is separate from the ipykernel package so we can avoid doing imports until\n"
     ]
    }
   ],
   "source": [
    "classifier.add(Dense(output_dim=6,activation='relu',init='uniform',input_dim=11))\n",
    "classifier.add(Dense(output_dim=6,activation='relu',init='uniform'))\n",
    "classifier.add(Dense(output_dim=1,activation='sigmoid',init='uniform'))"
   ]
  },
  {
   "cell_type": "code",
   "execution_count": 22,
   "metadata": {},
   "outputs": [],
   "source": [
    "classifier.compile(optimizer='adam',loss='binary_crossentropy',metrics=['accuracy'])"
   ]
  },
  {
   "cell_type": "code",
   "execution_count": 23,
   "metadata": {},
   "outputs": [
    {
     "name": "stdout",
     "output_type": "stream",
     "text": [
      "WARNING:tensorflow:From C:\\Users\\tusha\\Anaconda3\\anaconda64\\lib\\site-packages\\tensorflow\\python\\ops\\math_ops.py:3066: to_int32 (from tensorflow.python.ops.math_ops) is deprecated and will be removed in a future version.\n",
      "Instructions for updating:\n",
      "Use tf.cast instead.\n",
      "Epoch 1/100\n",
      "8000/8000 [==============================] - 3s 425us/step - loss: 0.5137 - acc: 0.7961\n",
      "Epoch 2/100\n",
      "8000/8000 [==============================] - 1s 140us/step - loss: 0.4559 - acc: 0.7961\n",
      "Epoch 3/100\n",
      "8000/8000 [==============================] - 1s 155us/step - loss: 0.4396 - acc: 0.7961\n",
      "Epoch 4/100\n",
      "8000/8000 [==============================] - 1s 145us/step - loss: 0.4276 - acc: 0.7961\n",
      "Epoch 5/100\n",
      "8000/8000 [==============================] - 1s 150us/step - loss: 0.4194 - acc: 0.7974\n",
      "Epoch 6/100\n",
      "8000/8000 [==============================] - 1s 151us/step - loss: 0.4141 - acc: 0.8249\n",
      "Epoch 7/100\n",
      "8000/8000 [==============================] - 1s 152us/step - loss: 0.4106 - acc: 0.8329\n",
      "Epoch 8/100\n",
      "8000/8000 [==============================] - 1s 148us/step - loss: 0.4074 - acc: 0.8335\n",
      "Epoch 9/100\n",
      "8000/8000 [==============================] - 1s 137us/step - loss: 0.4065 - acc: 0.8312\n",
      "Epoch 10/100\n",
      "8000/8000 [==============================] - 1s 148us/step - loss: 0.4050 - acc: 0.8339 1s - loss:\n",
      "Epoch 11/100\n",
      "8000/8000 [==============================] - 1s 155us/step - loss: 0.4048 - acc: 0.8357\n",
      "Epoch 12/100\n",
      "8000/8000 [==============================] - 1s 134us/step - loss: 0.4035 - acc: 0.8359\n",
      "Epoch 13/100\n",
      "8000/8000 [==============================] - 1s 137us/step - loss: 0.4029 - acc: 0.8359\n",
      "Epoch 14/100\n",
      "8000/8000 [==============================] - 1s 144us/step - loss: 0.4022 - acc: 0.8347\n",
      "Epoch 15/100\n",
      "8000/8000 [==============================] - 1s 145us/step - loss: 0.4014 - acc: 0.8361\n",
      "Epoch 16/100\n",
      "8000/8000 [==============================] - 1s 152us/step - loss: 0.4013 - acc: 0.8371\n",
      "Epoch 17/100\n",
      "8000/8000 [==============================] - 1s 157us/step - loss: 0.4005 - acc: 0.8360\n",
      "Epoch 18/100\n",
      "8000/8000 [==============================] - 1s 149us/step - loss: 0.3999 - acc: 0.8361\n",
      "Epoch 19/100\n",
      "8000/8000 [==============================] - 1s 152us/step - loss: 0.3995 - acc: 0.8381\n",
      "Epoch 20/100\n",
      "8000/8000 [==============================] - 1s 140us/step - loss: 0.3992 - acc: 0.8357\n",
      "Epoch 21/100\n",
      "8000/8000 [==============================] - 1s 145us/step - loss: 0.3988 - acc: 0.8370\n",
      "Epoch 22/100\n",
      "8000/8000 [==============================] - 1s 146us/step - loss: 0.3991 - acc: 0.8355\n",
      "Epoch 23/100\n",
      "8000/8000 [==============================] - 1s 145us/step - loss: 0.3987 - acc: 0.8377\n",
      "Epoch 24/100\n",
      "8000/8000 [==============================] - 1s 155us/step - loss: 0.3988 - acc: 0.8356\n",
      "Epoch 25/100\n",
      "8000/8000 [==============================] - 1s 149us/step - loss: 0.3979 - acc: 0.8361\n",
      "Epoch 26/100\n",
      "8000/8000 [==============================] - 1s 140us/step - loss: 0.3981 - acc: 0.8381\n",
      "Epoch 27/100\n",
      "8000/8000 [==============================] - 1s 134us/step - loss: 0.3973 - acc: 0.8365\n",
      "Epoch 28/100\n",
      "8000/8000 [==============================] - 1s 134us/step - loss: 0.3973 - acc: 0.8369\n",
      "Epoch 29/100\n",
      "8000/8000 [==============================] - 1s 140us/step - loss: 0.3978 - acc: 0.8351\n",
      "Epoch 30/100\n",
      "8000/8000 [==============================] - 1s 131us/step - loss: 0.3969 - acc: 0.8355\n",
      "Epoch 31/100\n",
      "8000/8000 [==============================] - 1s 153us/step - loss: 0.3967 - acc: 0.8381\n",
      "Epoch 32/100\n",
      "8000/8000 [==============================] - 1s 167us/step - loss: 0.3972 - acc: 0.8361\n",
      "Epoch 33/100\n",
      "8000/8000 [==============================] - 1s 169us/step - loss: 0.3968 - acc: 0.8379\n",
      "Epoch 34/100\n",
      "8000/8000 [==============================] - 1s 156us/step - loss: 0.3968 - acc: 0.8349\n",
      "Epoch 35/100\n",
      "8000/8000 [==============================] - 1s 146us/step - loss: 0.3961 - acc: 0.8372\n",
      "Epoch 36/100\n",
      "8000/8000 [==============================] - 1s 163us/step - loss: 0.3960 - acc: 0.8370\n",
      "Epoch 37/100\n",
      "8000/8000 [==============================] - 1s 139us/step - loss: 0.3962 - acc: 0.8359\n",
      "Epoch 38/100\n",
      "8000/8000 [==============================] - 1s 139us/step - loss: 0.3958 - acc: 0.8369\n",
      "Epoch 39/100\n",
      "8000/8000 [==============================] - 1s 150us/step - loss: 0.3964 - acc: 0.8377\n",
      "Epoch 40/100\n",
      "8000/8000 [==============================] - 1s 170us/step - loss: 0.3959 - acc: 0.8362\n",
      "Epoch 41/100\n",
      "8000/8000 [==============================] - 1s 164us/step - loss: 0.3954 - acc: 0.8372\n",
      "Epoch 42/100\n",
      "8000/8000 [==============================] - 1s 136us/step - loss: 0.3951 - acc: 0.8380\n",
      "Epoch 43/100\n",
      "8000/8000 [==============================] - 1s 141us/step - loss: 0.3955 - acc: 0.8376\n",
      "Epoch 44/100\n",
      "8000/8000 [==============================] - 1s 140us/step - loss: 0.3947 - acc: 0.8384\n",
      "Epoch 45/100\n",
      "8000/8000 [==============================] - 1s 134us/step - loss: 0.3948 - acc: 0.8381\n",
      "Epoch 46/100\n",
      "8000/8000 [==============================] - 2s 196us/step - loss: 0.3949 - acc: 0.8376\n",
      "Epoch 47/100\n",
      "8000/8000 [==============================] - 2s 227us/step - loss: 0.3949 - acc: 0.8386\n",
      "Epoch 48/100\n",
      "8000/8000 [==============================] - 1s 161us/step - loss: 0.3943 - acc: 0.8384\n",
      "Epoch 49/100\n",
      "8000/8000 [==============================] - 1s 154us/step - loss: 0.3941 - acc: 0.8382\n",
      "Epoch 50/100\n",
      "8000/8000 [==============================] - 1s 184us/step - loss: 0.3944 - acc: 0.8376\n",
      "Epoch 51/100\n",
      "8000/8000 [==============================] - 1s 163us/step - loss: 0.3948 - acc: 0.8372\n",
      "Epoch 52/100\n",
      "8000/8000 [==============================] - 1s 172us/step - loss: 0.3940 - acc: 0.8394\n",
      "Epoch 53/100\n",
      "8000/8000 [==============================] - 1s 153us/step - loss: 0.3938 - acc: 0.8405\n",
      "Epoch 54/100\n",
      "8000/8000 [==============================] - 1s 139us/step - loss: 0.3939 - acc: 0.8381\n",
      "Epoch 55/100\n",
      "8000/8000 [==============================] - 1s 137us/step - loss: 0.3934 - acc: 0.8384\n",
      "Epoch 56/100\n",
      "8000/8000 [==============================] - 1s 156us/step - loss: 0.3939 - acc: 0.8392\n",
      "Epoch 57/100\n",
      "8000/8000 [==============================] - 1s 144us/step - loss: 0.3938 - acc: 0.8385\n",
      "Epoch 58/100\n",
      "8000/8000 [==============================] - 1s 160us/step - loss: 0.3936 - acc: 0.8405\n",
      "Epoch 59/100\n",
      "8000/8000 [==============================] - 1s 157us/step - loss: 0.3936 - acc: 0.8397\n",
      "Epoch 60/100\n",
      "8000/8000 [==============================] - 1s 159us/step - loss: 0.3934 - acc: 0.8404\n",
      "Epoch 61/100\n",
      "8000/8000 [==============================] - 1s 170us/step - loss: 0.3941 - acc: 0.8377\n",
      "Epoch 62/100\n",
      "8000/8000 [==============================] - 1s 159us/step - loss: 0.3935 - acc: 0.8404\n",
      "Epoch 63/100\n",
      "8000/8000 [==============================] - 1s 156us/step - loss: 0.3931 - acc: 0.8395\n",
      "Epoch 64/100\n",
      "8000/8000 [==============================] - 1s 146us/step - loss: 0.3935 - acc: 0.8387\n",
      "Epoch 65/100\n",
      "8000/8000 [==============================] - 1s 146us/step - loss: 0.3931 - acc: 0.8414\n",
      "Epoch 66/100\n",
      "8000/8000 [==============================] - 1s 152us/step - loss: 0.3933 - acc: 0.8404\n",
      "Epoch 67/100\n",
      "8000/8000 [==============================] - 1s 149us/step - loss: 0.3929 - acc: 0.8391\n",
      "Epoch 68/100\n",
      "8000/8000 [==============================] - 1s 151us/step - loss: 0.3923 - acc: 0.8404\n",
      "Epoch 69/100\n",
      "8000/8000 [==============================] - 1s 143us/step - loss: 0.3923 - acc: 0.8411\n",
      "Epoch 70/100\n",
      "8000/8000 [==============================] - 1s 141us/step - loss: 0.3914 - acc: 0.8404\n",
      "Epoch 71/100\n",
      "8000/8000 [==============================] - 1s 150us/step - loss: 0.3921 - acc: 0.8394\n",
      "Epoch 72/100\n",
      "8000/8000 [==============================] - 1s 146us/step - loss: 0.3914 - acc: 0.8402\n",
      "Epoch 73/100\n",
      "8000/8000 [==============================] - 1s 141us/step - loss: 0.3927 - acc: 0.8409\n",
      "Epoch 74/100\n",
      "8000/8000 [==============================] - 1s 143us/step - loss: 0.3919 - acc: 0.8411\n",
      "Epoch 75/100\n",
      "8000/8000 [==============================] - 1s 152us/step - loss: 0.3921 - acc: 0.8402\n",
      "Epoch 76/100\n",
      "8000/8000 [==============================] - 1s 143us/step - loss: 0.3914 - acc: 0.8397\n",
      "Epoch 77/100\n",
      "8000/8000 [==============================] - 1s 144us/step - loss: 0.3916 - acc: 0.8401\n",
      "Epoch 78/100\n",
      "8000/8000 [==============================] - 1s 152us/step - loss: 0.3919 - acc: 0.8417\n",
      "Epoch 79/100\n"
     ]
    },
    {
     "name": "stdout",
     "output_type": "stream",
     "text": [
      "8000/8000 [==============================] - 1s 146us/step - loss: 0.3915 - acc: 0.8437\n",
      "Epoch 80/100\n",
      "8000/8000 [==============================] - 1s 146us/step - loss: 0.3913 - acc: 0.8407\n",
      "Epoch 81/100\n",
      "8000/8000 [==============================] - 1s 149us/step - loss: 0.3911 - acc: 0.8425\n",
      "Epoch 82/100\n",
      "8000/8000 [==============================] - 1s 144us/step - loss: 0.3912 - acc: 0.8421\n",
      "Epoch 83/100\n",
      "8000/8000 [==============================] - 1s 150us/step - loss: 0.3914 - acc: 0.8439\n",
      "Epoch 84/100\n",
      "8000/8000 [==============================] - 1s 148us/step - loss: 0.3913 - acc: 0.8397\n",
      "Epoch 85/100\n",
      "8000/8000 [==============================] - 1s 147us/step - loss: 0.3908 - acc: 0.8437\n",
      "Epoch 86/100\n",
      "8000/8000 [==============================] - 1s 174us/step - loss: 0.3903 - acc: 0.8415\n",
      "Epoch 87/100\n",
      "8000/8000 [==============================] - 1s 154us/step - loss: 0.3906 - acc: 0.8424\n",
      "Epoch 88/100\n",
      "8000/8000 [==============================] - 1s 141us/step - loss: 0.3907 - acc: 0.8429\n",
      "Epoch 89/100\n",
      "8000/8000 [==============================] - 1s 148us/step - loss: 0.3907 - acc: 0.8404\n",
      "Epoch 90/100\n",
      "8000/8000 [==============================] - 1s 139us/step - loss: 0.3903 - acc: 0.8425\n",
      "Epoch 91/100\n",
      "8000/8000 [==============================] - 1s 153us/step - loss: 0.3902 - acc: 0.8407\n",
      "Epoch 92/100\n",
      "8000/8000 [==============================] - 1s 155us/step - loss: 0.3901 - acc: 0.8406\n",
      "Epoch 93/100\n",
      "8000/8000 [==============================] - 1s 154us/step - loss: 0.3901 - acc: 0.8417\n",
      "Epoch 94/100\n",
      "8000/8000 [==============================] - 1s 157us/step - loss: 0.3902 - acc: 0.8405\n",
      "Epoch 95/100\n",
      "8000/8000 [==============================] - 1s 163us/step - loss: 0.3901 - acc: 0.8404\n",
      "Epoch 96/100\n",
      "8000/8000 [==============================] - 1s 175us/step - loss: 0.3899 - acc: 0.8430\n",
      "Epoch 97/100\n",
      "8000/8000 [==============================] - 2s 234us/step - loss: 0.3898 - acc: 0.8427\n",
      "Epoch 98/100\n",
      "8000/8000 [==============================] - 1s 160us/step - loss: 0.3899 - acc: 0.8410\n",
      "Epoch 99/100\n",
      "8000/8000 [==============================] - 1s 154us/step - loss: 0.3897 - acc: 0.8414\n",
      "Epoch 100/100\n",
      "8000/8000 [==============================] - 1s 151us/step - loss: 0.3900 - acc: 0.8419\n"
     ]
    },
    {
     "data": {
      "text/plain": [
       "<keras.callbacks.History at 0x23bf78074e0>"
      ]
     },
     "execution_count": 23,
     "metadata": {},
     "output_type": "execute_result"
    }
   ],
   "source": [
    "classifier.fit(X_train,y_train,epochs=100,batch_size=10)"
   ]
  },
  {
   "cell_type": "code",
   "execution_count": 27,
   "metadata": {},
   "outputs": [],
   "source": [
    "y_pred = classifier.predict(X_test)"
   ]
  },
  {
   "cell_type": "code",
   "execution_count": 30,
   "metadata": {},
   "outputs": [],
   "source": [
    "from sklearn.metrics import confusion_matrix\n",
    "y_pred = (y_pred>0.5)"
   ]
  },
  {
   "cell_type": "code",
   "execution_count": 31,
   "metadata": {},
   "outputs": [],
   "source": [
    "cm = confusion_matrix(y_test,y_pred)"
   ]
  },
  {
   "cell_type": "code",
   "execution_count": 32,
   "metadata": {},
   "outputs": [
    {
     "data": {
      "text/plain": [
       "array([[1531,   63],\n",
       "       [ 268,  138]], dtype=int64)"
      ]
     },
     "execution_count": 32,
     "metadata": {},
     "output_type": "execute_result"
    }
   ],
   "source": [
    "cm"
   ]
  },
  {
   "cell_type": "code",
   "execution_count": 33,
   "metadata": {},
   "outputs": [],
   "source": [
    "import seaborn as sns"
   ]
  },
  {
   "cell_type": "code",
   "execution_count": 35,
   "metadata": {},
   "outputs": [
    {
     "data": {
      "text/plain": [
       "<matplotlib.axes._subplots.AxesSubplot at 0x23bfa117518>"
      ]
     },
     "execution_count": 35,
     "metadata": {},
     "output_type": "execute_result"
    },
    {
     "data": {
      "image/png": "[encoded data removed]",
      "text/plain": [
       "<Figure size 432x288 with 2 Axes>"
      ]
     },
     "metadata": {
      "needs_background": "light"
     },
     "output_type": "display_data"
    }
   ],
   "source": [
    "sns.heatmap(cm)"
   ]
  },
  {
   "cell_type": "code",
   "execution_count": 37,
   "metadata": {},
   "outputs": [
    {
     "name": "stdout",
     "output_type": "stream",
     "text": [
      "accuracy : 0.8345\n"
     ]
    }
   ],
   "source": [
    "print('accuracy :',(1531+138)/2000)"
   ]
  },
  {
   "cell_type": "code",
   "execution_count": null,
   "metadata": {},
   "outputs": [],
   "source": []
  }
 ],
 "metadata": {
  "kernelspec": {
   "display_name": "Python 3",
   "language": "python",
   "name": "python3"
  },
  "language_info": {
   "codemirror_mode": {
    "name": "ipython",
    "version": 3
   },
   "file_extension": ".py",
   "mimetype": "text/x-python",
   "name": "python",
   "nbconvert_exporter": "python",
   "pygments_lexer": "ipython3",
   "version": "3.7.3"
  }
 },
 "nbformat": 4,
 "nbformat_minor": 2
}
